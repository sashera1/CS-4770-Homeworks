{
  "cells": [
    {
      "cell_type": "markdown",
      "metadata": {
        "id": "view-in-github",
        "colab_type": "text"
      },
      "source": [
        "<a href=\"https://colab.research.google.com/github/sashera1/CS-4770-Homeworks/blob/main/CS_4770_NLP_Fall_2025_Assignment_3.ipynb\" target=\"_parent\"><img src=\"https://colab.research.google.com/assets/colab-badge.svg\" alt=\"Open In Colab\"/></a>"
      ]
    },
    {
      "cell_type": "markdown",
      "metadata": {
        "id": "zpC6KQzGRQ7Z"
      },
      "source": [
        "## **Assignment 3: Word Embeddings**\n",
        "\n",
        "### *CS 4770 Natural Language Processing (Fall 2025)*\n",
        "\n",
        "In this assignment, you will explore word embedding techniques using Python. You will start by working with raw frequencies and TF-IDF, understand pre-trained word embeddings, train your own word2vec embeddings, and apply these embeddings to NLP tasks.\n",
        "\n",
        "### **Overview:**\n",
        "\n",
        "1. TF-IDF Embeddings\n",
        "2. Understand Pre-trained GloVe Embeddings\n",
        "3. Train Your Own Word2Vec Embeddings\n",
        "4. Classification Using Word Embeddings"
      ]
    },
    {
      "cell_type": "code",
      "source": [
        "!pip install gensim"
      ],
      "metadata": {
        "id": "0EqpZI8hO97u",
        "outputId": "dd52f40f-b265-4a81-dadc-0a298a339ec7",
        "colab": {
          "base_uri": "https://localhost:8080/",
          "height": 668
        }
      },
      "execution_count": 2,
      "outputs": [
        {
          "output_type": "stream",
          "name": "stdout",
          "text": [
            "Collecting gensim\n",
            "  Downloading gensim-4.3.3-cp312-cp312-manylinux_2_17_x86_64.manylinux2014_x86_64.whl.metadata (8.1 kB)\n",
            "Collecting numpy<2.0,>=1.18.5 (from gensim)\n",
            "  Downloading numpy-1.26.4-cp312-cp312-manylinux_2_17_x86_64.manylinux2014_x86_64.whl.metadata (61 kB)\n",
            "\u001b[2K     \u001b[90m━━━━━━━━━━━━━━━━━━━━━━━━━━━━━━━━━━━━━━━━\u001b[0m \u001b[32m61.0/61.0 kB\u001b[0m \u001b[31m1.8 MB/s\u001b[0m eta \u001b[36m0:00:00\u001b[0m\n",
            "\u001b[?25hCollecting scipy<1.14.0,>=1.7.0 (from gensim)\n",
            "  Downloading scipy-1.13.1-cp312-cp312-manylinux_2_17_x86_64.manylinux2014_x86_64.whl.metadata (60 kB)\n",
            "\u001b[2K     \u001b[90m━━━━━━━━━━━━━━━━━━━━━━━━━━━━━━━━━━━━━━━━\u001b[0m \u001b[32m60.6/60.6 kB\u001b[0m \u001b[31m2.9 MB/s\u001b[0m eta \u001b[36m0:00:00\u001b[0m\n",
            "\u001b[?25hRequirement already satisfied: smart-open>=1.8.1 in /usr/local/lib/python3.12/dist-packages (from gensim) (7.3.1)\n",
            "Requirement already satisfied: wrapt in /usr/local/lib/python3.12/dist-packages (from smart-open>=1.8.1->gensim) (1.17.3)\n",
            "Downloading gensim-4.3.3-cp312-cp312-manylinux_2_17_x86_64.manylinux2014_x86_64.whl (26.6 MB)\n",
            "\u001b[2K   \u001b[90m━━━━━━━━━━━━━━━━━━━━━━━━━━━━━━━━━━━━━━━━\u001b[0m \u001b[32m26.6/26.6 MB\u001b[0m \u001b[31m54.2 MB/s\u001b[0m eta \u001b[36m0:00:00\u001b[0m\n",
            "\u001b[?25hDownloading numpy-1.26.4-cp312-cp312-manylinux_2_17_x86_64.manylinux2014_x86_64.whl (18.0 MB)\n",
            "\u001b[2K   \u001b[90m━━━━━━━━━━━━━━━━━━━━━━━━━━━━━━━━━━━━━━━━\u001b[0m \u001b[32m18.0/18.0 MB\u001b[0m \u001b[31m38.2 MB/s\u001b[0m eta \u001b[36m0:00:00\u001b[0m\n",
            "\u001b[?25hDownloading scipy-1.13.1-cp312-cp312-manylinux_2_17_x86_64.manylinux2014_x86_64.whl (38.2 MB)\n",
            "\u001b[2K   \u001b[90m━━━━━━━━━━━━━━━━━━━━━━━━━━━━━━━━━━━━━━━━\u001b[0m \u001b[32m38.2/38.2 MB\u001b[0m \u001b[31m17.0 MB/s\u001b[0m eta \u001b[36m0:00:00\u001b[0m\n",
            "\u001b[?25hInstalling collected packages: numpy, scipy, gensim\n",
            "  Attempting uninstall: numpy\n",
            "    Found existing installation: numpy 2.0.2\n",
            "    Uninstalling numpy-2.0.2:\n",
            "      Successfully uninstalled numpy-2.0.2\n",
            "  Attempting uninstall: scipy\n",
            "    Found existing installation: scipy 1.16.2\n",
            "    Uninstalling scipy-1.16.2:\n",
            "      Successfully uninstalled scipy-1.16.2\n",
            "\u001b[31mERROR: pip's dependency resolver does not currently take into account all the packages that are installed. This behaviour is the source of the following dependency conflicts.\n",
            "opencv-python-headless 4.12.0.88 requires numpy<2.3.0,>=2; python_version >= \"3.9\", but you have numpy 1.26.4 which is incompatible.\n",
            "opencv-contrib-python 4.12.0.88 requires numpy<2.3.0,>=2; python_version >= \"3.9\", but you have numpy 1.26.4 which is incompatible.\n",
            "opencv-python 4.12.0.88 requires numpy<2.3.0,>=2; python_version >= \"3.9\", but you have numpy 1.26.4 which is incompatible.\n",
            "thinc 8.3.6 requires numpy<3.0.0,>=2.0.0, but you have numpy 1.26.4 which is incompatible.\n",
            "tsfresh 0.21.1 requires scipy>=1.14.0; python_version >= \"3.10\", but you have scipy 1.13.1 which is incompatible.\u001b[0m\u001b[31m\n",
            "\u001b[0mSuccessfully installed gensim-4.3.3 numpy-1.26.4 scipy-1.13.1\n"
          ]
        },
        {
          "output_type": "display_data",
          "data": {
            "application/vnd.colab-display-data+json": {
              "pip_warning": {
                "packages": [
                  "numpy",
                  "scipy"
                ]
              },
              "id": "481d1f19d5ed4b14a40ffba7d44fe778"
            }
          },
          "metadata": {}
        }
      ]
    },
    {
      "cell_type": "code",
      "execution_count": 1,
      "metadata": {
        "id": "urZNZarZXEdv"
      },
      "outputs": [],
      "source": [
        "# import packages\n",
        "import numpy as np\n",
        "from pprint import pprint\n",
        "from gensim.models import Word2Vec\n",
        "import gensim.downloader\n",
        "from gensim.models.word2vec import Text8Corpus\n",
        "import gensim.downloader as api\n",
        "import matplotlib.pyplot as plt\n",
        "from sklearn.metrics.pairwise import cosine_similarity\n",
        "from sklearn.decomposition import PCA\n",
        "import warnings\n",
        "\n",
        "warnings.filterwarnings('ignore')\n",
        "np.set_printoptions(precision=4, suppress=True)\n",
        "\n",
        "np.random.seed(99)"
      ]
    },
    {
      "cell_type": "markdown",
      "source": [
        "You will receive a warning prompting you to restart the session and then continue."
      ],
      "metadata": {
        "id": "EmF0OLK5O_RZ"
      }
    },
    {
      "cell_type": "markdown",
      "metadata": {
        "id": "CipDggsjSHj0"
      },
      "source": [
        "\n",
        "### 1. Calculate raw frequencies and TF-IDF.\n"
      ]
    },
    {
      "cell_type": "code",
      "execution_count": 1,
      "metadata": {
        "id": "IJUzp1C_VhS1"
      },
      "outputs": [],
      "source": [
        "from sklearn.feature_extraction.text import TfidfVectorizer, CountVectorizer\n",
        "\n",
        "# Simple corpus\n",
        "corpus = [\n",
        "    \"vim is a powerful text editor loved by programmers\",\n",
        "    \"learning vim commands can greatly boost productivity\",\n",
        "    \"vim is lightweight yet highly customizable\",\n",
        "    \"many developers enjoy the efficiency of vim keybindings\",\n",
        "]\n",
        "\n",
        "# Calculate Cosine Similarity\n",
        "def document_similarity(doc_vectors):\n",
        "    similarity = cosine_similarity(doc_vectors)\n",
        "    return similarity\n",
        "\n",
        "\"\"\"\n",
        "TODO: (a) Implement the raw word frequencies function. Return a two-dimensional array where each row contains the word counts in each document (output should be converted via toarray()).\n",
        "(Hint: Use the function CountVectorizer)\n",
        "\"\"\"\n",
        "def calculate_raw_frequencies(corpus):\n",
        "    vectorizer = CountVectorizer()\n",
        "    word_count_array = vectorizer.fit_transform(corpus)\n",
        "    return word_count_array.toarray()\n",
        "\n",
        "\"\"\"\n",
        "TODO: (b) Implement TF-IDF reweighting. Return a two-dimensional array where each row contains the TF-IDF features of each document (output should be converted via toarray()).\n",
        "(Hint: Use the function TfidfVectorizer)\n",
        "\"\"\"\n",
        "def calculate_tfidf(corpus):\n",
        "    vectorizer = TfidfVectorizer()\n",
        "    tf_idf_array = vectorizer.fit_transform(corpus)\n",
        "    return tf_idf_array.toarray()\n"
      ]
    },
    {
      "cell_type": "code",
      "execution_count": 3,
      "metadata": {
        "id": "NcxaQWr_gAYN",
        "outputId": "a7309a81-baf4-44dd-a431-1f7a0c2fe3d3",
        "colab": {
          "base_uri": "https://localhost:8080/"
        }
      },
      "outputs": [
        {
          "output_type": "stream",
          "name": "stdout",
          "text": [
            "[[0 1 0 0 0 0 1 0 0 0 0 1 0 0 0 1 0 0 1 0 1 1 0 1 0]\n",
            " [1 0 1 1 0 0 0 0 0 1 0 0 0 1 0 0 0 0 0 1 0 0 0 1 0]\n",
            " [0 0 0 0 1 0 0 0 0 0 1 1 0 0 1 0 0 0 0 0 0 0 0 1 1]\n",
            " [0 0 0 0 0 1 0 1 1 0 0 0 1 0 0 0 1 1 0 0 0 0 1 1 0]]\n",
            "\n",
            "Document Similarity Matrix (Raw Frequencies):\n",
            "array([[1.    , 0.1336, 0.2887, 0.125 ],\n",
            "       [0.1336, 1.    , 0.1543, 0.1336],\n",
            "       [0.2887, 0.1543, 1.    , 0.1443],\n",
            "       [0.125 , 0.1336, 0.1443, 1.    ]])\n"
          ]
        }
      ],
      "source": [
        "# Raw frequencies and document similarity\n",
        "raw_count = calculate_raw_frequencies(corpus)\n",
        "print(raw_count)\n",
        "\n",
        "similarity_raw = document_similarity(raw_count)\n",
        "print(\"\\nDocument Similarity Matrix (Raw Frequencies):\")\n",
        "pprint(similarity_raw)"
      ]
    },
    {
      "cell_type": "code",
      "execution_count": 4,
      "metadata": {
        "id": "-AIoQtLMgAYO",
        "outputId": "ba75ce71-992e-4727-86ec-bfd09404f838",
        "colab": {
          "base_uri": "https://localhost:8080/"
        }
      },
      "outputs": [
        {
          "output_type": "stream",
          "name": "stdout",
          "text": [
            "\n",
            "TF-IDF Matrix:\n",
            "array([[0.    , 0.3809, 0.    , 0.    , 0.    , 0.    , 0.3809, 0.    ,\n",
            "        0.    , 0.    , 0.    , 0.3003, 0.    , 0.    , 0.    , 0.3809,\n",
            "        0.    , 0.    , 0.3809, 0.    , 0.3809, 0.3809, 0.    , 0.1987,\n",
            "        0.    ],\n",
            "       [0.3993, 0.    , 0.3993, 0.3993, 0.    , 0.    , 0.    , 0.    ,\n",
            "        0.    , 0.3993, 0.    , 0.    , 0.    , 0.3993, 0.    , 0.    ,\n",
            "        0.    , 0.    , 0.    , 0.3993, 0.    , 0.    , 0.    , 0.2084,\n",
            "        0.    ],\n",
            "       [0.    , 0.    , 0.    , 0.    , 0.452 , 0.    , 0.    , 0.    ,\n",
            "        0.    , 0.    , 0.452 , 0.3564, 0.    , 0.    , 0.452 , 0.    ,\n",
            "        0.    , 0.    , 0.    , 0.    , 0.    , 0.    , 0.    , 0.2359,\n",
            "        0.452 ],\n",
            "       [0.    , 0.    , 0.    , 0.    , 0.    , 0.3708, 0.    , 0.3708,\n",
            "        0.3708, 0.    , 0.    , 0.    , 0.3708, 0.    , 0.    , 0.    ,\n",
            "        0.3708, 0.3708, 0.    , 0.    , 0.    , 0.    , 0.3708, 0.1935,\n",
            "        0.    ]])\n",
            "\n",
            "Document Similarity Matrix (TF-IDF):\n",
            "array([[1.    , 0.0414, 0.1539, 0.0385],\n",
            "       [0.0414, 1.    , 0.0492, 0.0403],\n",
            "       [0.1539, 0.0492, 1.    , 0.0456],\n",
            "       [0.0385, 0.0403, 0.0456, 1.    ]])\n"
          ]
        }
      ],
      "source": [
        "# TF-IDF and document similarity\n",
        "tfidf = calculate_tfidf(corpus)\n",
        "print(\"\\nTF-IDF Matrix:\")\n",
        "pprint(tfidf)\n",
        "\n",
        "similarity_tfidf = document_similarity(tfidf)\n",
        "print(\"\\nDocument Similarity Matrix (TF-IDF):\")\n",
        "pprint(similarity_tfidf)"
      ]
    },
    {
      "cell_type": "markdown",
      "metadata": {
        "id": "jAUenAElTvq0"
      },
      "source": [
        "### 2. Understand pretrained GloVe embedding"
      ]
    },
    {
      "cell_type": "code",
      "execution_count": 5,
      "metadata": {
        "id": "IqERPCdVVh1M",
        "outputId": "cb7ddf0b-7c03-4949-c67a-16ff35188174",
        "colab": {
          "base_uri": "https://localhost:8080/"
        }
      },
      "outputs": [
        {
          "output_type": "stream",
          "name": "stdout",
          "text": [
            "[==================================================] 100.0% 376.1/376.1MB downloaded\n"
          ]
        }
      ],
      "source": [
        "# load pretrained word vectors. it will take a little bit long but you only need to download it once\n",
        "word_vectors = gensim.downloader.load('glove-wiki-gigaword-300')"
      ]
    },
    {
      "cell_type": "markdown",
      "metadata": {
        "id": "Sck8z2AbtqP8"
      },
      "source": [
        "The word \"language\" is represented by the 300 dimensional vector:"
      ]
    },
    {
      "cell_type": "code",
      "execution_count": 6,
      "metadata": {
        "id": "HEnttvyjtrST",
        "outputId": "0bb012ea-9200-46ce-ed93-7f9817c379d5",
        "colab": {
          "base_uri": "https://localhost:8080/"
        }
      },
      "outputs": [
        {
          "output_type": "stream",
          "name": "stdout",
          "text": [
            "[-0.6783 -0.2866 -0.289   0.151  -0.4672 -0.1742 -0.7779  0.3547  0.0694\n",
            " -1.7409 -0.0049  0.3281 -0.5544  0.5139  0.5307  0.0237  0.2254  0.7687\n",
            "  0.1835  0.1676 -0.1529 -0.272  -0.0534  1.0727 -0.4668 -0.246   0.192\n",
            " -0.0761  0.0398  0.1655  0.0642  0.4121 -0.4129  0.8818 -0.6551 -0.1999\n",
            "  0.2804 -0.8306  0.0104  0.2502 -0.2707 -0.0581  0.4071 -0.2387  0.1896\n",
            " -0.0479 -0.2003  0.8798 -0.1585 -0.281   0.155  -0.0432  0.4279 -0.8603\n",
            " -0.2624 -0.0105  0.235  -0.6671  0.9133  0.5243  0.5894  0.5759  0.5518\n",
            "  0.0076 -0.0085  0.3055  0.767   0.5911  0.7054  0.1124 -0.904  -0.0164\n",
            " -0.2333  0.11    0.4213  0.1361  0.7493  0.2188  0.091   0.001  -0.059\n",
            " -0.8769 -0.1798 -0.7033 -0.4347  0.0511 -0.3461 -0.0355  0.209   0.9782\n",
            " -1.1824  0.2259 -0.32    0.3842  0.5325 -0.0023  0.1545 -0.5097 -0.2592\n",
            " -0.5971  0.3911 -0.1422  0.2708 -0.3563  0.4358 -0.089  -0.5546 -0.1714\n",
            "  0.5898  0.8071  0.2803  0.2233  0.0215  0.2755 -0.2953  0.5224 -0.7273\n",
            "  0.1155  0.2293  0.0751  0.5448  0.1902 -0.403   0.0556 -0.4914 -0.4703\n",
            " -0.2517  0.3566  0.1106 -0.5691 -0.1353 -0.3637  0.4175 -0.5312  0.2785\n",
            "  0.4307  0.0796 -0.2593  0.3694  0.3424  0.1041 -0.241  -0.2686 -0.7662\n",
            "  0.2839  0.0775  0.4094 -0.3269  0.0739 -0.0917  0.3613  0.1813  0.0057\n",
            "  0.2897 -0.263  -0.0644 -0.2422  0.3406  0.2991 -0.1423  0.4991  0.2546\n",
            "  0.3518 -0.1959 -0.3409  0.2337 -0.2571 -0.1388 -0.2628 -0.0527 -0.116\n",
            " -0.4816 -0.9061  0.4664  0.0516 -0.0347 -0.1495 -0.5131 -0.272   0.3272\n",
            " -0.0741 -0.341  -0.4658 -0.1543  0.1419 -0.7431 -0.2391 -0.0542  0.1174\n",
            " -0.0023 -0.1983 -0.1079  0.7488  0.2263  0.0281 -0.4779 -0.5506  0.3833\n",
            " -0.6219 -0.2512  0.3842  0.0622 -0.2905 -0.1321  0.2633 -0.1294 -0.4845\n",
            "  0.4341 -0.3505  0.2318 -0.2413 -0.0433 -0.1984  0.303   0.3014  0.2587\n",
            " -0.2934 -0.1619  0.0546 -0.1193 -0.4288  0.8486 -0.5946 -0.0975 -0.0586\n",
            " -0.4364  0.5189  0.1397  0.0168 -0.1659 -0.0464  0.3051 -0.979   0.2144\n",
            " -0.3029  0.3532  0.4186 -0.2181 -0.031   0.0671  0.3063  0.4461  0.524\n",
            " -0.27   -0.3001  0.4019 -0.3616  0.3363 -0.4617  0.2049 -0.0099  0.547\n",
            " -0.0875  0.0133 -0.3009  0.113   0.419   0.1497  0.2887 -0.1172 -0.5264\n",
            " -0.0606 -0.6891 -0.1577 -0.2076 -0.1208  0.2875 -0.0468  0.2491  0.2545\n",
            "  0.2036 -0.3894 -0.1033 -0.5468 -0.1067 -0.0877 -1.7634  0.139   0.7261\n",
            " -0.2118  0.0045 -0.8627 -0.1712 -0.2774  0.0106 -0.3021  0.0439 -0.1876\n",
            "  0.3706  0.6377 -0.1601 -0.0968 -0.2028 -0.1731  0.0823  0.3748 -0.2317\n",
            " -0.1705 -0.53    0.2949]\n"
          ]
        }
      ],
      "source": [
        "print(word_vectors[\"language\"])"
      ]
    },
    {
      "cell_type": "markdown",
      "metadata": {
        "id": "H8ANU5KYtxMM"
      },
      "source": [
        "Next, we'll compute semantic similarity between words from a few different categories:"
      ]
    },
    {
      "cell_type": "code",
      "execution_count": 7,
      "metadata": {
        "id": "lEsA-kn7gAYP"
      },
      "outputs": [],
      "source": [
        "# words and its corresponding categories\n",
        "categories = [\n",
        "    \"insects\", \"instruments\",\n",
        "    \"positive\", \"negative\",\n",
        "    \"STEM\", \"humanities\"\n",
        "]\n",
        "\n",
        "my_words = [\n",
        "    \"ant\", \"bee\", \"fly\", \"mosquito\", \"ladybug\",\n",
        "    \"piano\", \"guitar\", \"drum\", \"violin\", \"flute\",\n",
        "    \"happy\", \"fun\", \"love\", \"smile\", \"joy\",\n",
        "    \"sad\", \"angry\", \"fear\", \"pain\", \"bad\",\n",
        "    \"mathematics\", \"science\", \"computer\", \"engineer\", \"physics\",\n",
        "    \"art\", \"story\", \"poem\", \"dance\", \"music\",\n",
        "]"
      ]
    },
    {
      "cell_type": "code",
      "execution_count": 8,
      "metadata": {
        "id": "KS_U_3UwgAYP",
        "outputId": "5761b4da-12e2-4a93-8a3a-6968ad7edb15",
        "colab": {
          "base_uri": "https://localhost:8080/",
          "height": 838
        }
      },
      "outputs": [
        {
          "output_type": "display_data",
          "data": {
            "text/plain": [
              "<Figure size 1000x1000 with 2 Axes>"
            ],
            "image/png": "[encoded data removed]"
          },
          "metadata": {}
        }
      ],
      "source": [
        "my_word_vectors = np.array([word_vectors[word] for word in my_words])\n",
        "\n",
        "\"\"\"\n",
        "TODO: (a) calculate the pair-wise cosine similarity matrix between all the words using the word vectors.\n",
        "(Hint: Use the function cosine_similarity)\n",
        "\"\"\"\n",
        "# Your code goes here\n",
        "similarity_matrix = document_similarity(my_word_vectors)\n",
        "\n",
        "# plot the similarity matrix\n",
        "plt.figure(figsize=(10, 10))\n",
        "plt.imshow(similarity_matrix, interpolation='nearest')\n",
        "plt.colorbar()\n",
        "plt.xticks(np.arange(len(my_words)), my_words, rotation=90)\n",
        "plt.yticks(np.arange(len(my_words)), my_words)\n",
        "plt.title(\"Cosine Similarity between Words\")\n",
        "plt.show()\n"
      ]
    },
    {
      "cell_type": "code",
      "execution_count": 10,
      "metadata": {
        "id": "RR4MnWK3gAYP",
        "outputId": "d4815831-3c59-4b6c-c8ce-1ba852b1fc7a",
        "colab": {
          "base_uri": "https://localhost:8080/"
        }
      },
      "outputs": [
        {
          "output_type": "stream",
          "name": "stdout",
          "text": [
            "Analogy: king is to queen as prince is to brother\n",
            "Analogy: short is to shortest as wide is to broad\n",
            "Analogy: happy is to sad as large is to small\n",
            "Analogy: run is to ran as jump is to leap\n",
            "Analogy: they is to them as we is to 've\n",
            "Analogy: eat is to eating as fly is to flies\n"
          ]
        }
      ],
      "source": [
        "# Analysis the analogy of the word vectors\n",
        "\n",
        "\"\"\"\n",
        "TODO: (c) Define the analogy function, which calculates the vector of the fourth word in the analogy\n",
        "(Hint: Use the most_similar function: https://tedboy.github.io/nlps/generated/generated/gensim.models.Word2Vec.most_similar.html)\n",
        "\"\"\"\n",
        "def get_analogy(word1, word2, word3, word_vectors):\n",
        "    return word_vectors.most_similar(positive=[word1,word3],negative=[word2])\n",
        "\n",
        "\n",
        "# Perform the analogy task and print the results\n",
        "analogies = [\n",
        "    ('king', 'queen', 'prince'),\n",
        "    ('short', 'shortest', 'wide'),\n",
        "    ('happy', 'sad', 'large'),\n",
        "    ('run', 'ran', 'jump'),\n",
        "    ('they', 'them', 'we'),\n",
        "    ('eat', 'eating', 'fly'),\n",
        "]\n",
        "\n",
        "for word1, word2, word3 in analogies:\n",
        "    result = get_analogy(word1, word2, word3, word_vectors)\n",
        "    print(f\"Analogy: {word1} is to {word2} as {word3} is to {result[0][0]}\")"
      ]
    },
    {
      "cell_type": "code",
      "execution_count": null,
      "metadata": {
        "id": "o15Vxa8KgAYP"
      },
      "outputs": [],
      "source": [
        "\"\"\"\n",
        "TODO: (d) obtain the embeddings of words in my_words and add to embeddings_to_plot\n",
        "\"\"\"\n",
        "embeddings_to_plot = []\n",
        "for word in my_words:\n",
        "    # Your code goes here\n",
        "    pass\n",
        "\n",
        "\n",
        "# Convert to numpy array\n",
        "embeddings_to_plot = np.array(embeddings_to_plot)\n",
        "\n",
        "# Perform PCA to reduce to 2 dimensions\n",
        "pca = PCA(n_components=2)\n",
        "embeddings_2d = pca.fit_transform(embeddings_to_plot)\n",
        "\n",
        "# Plot\n",
        "plt.figure(figsize=(10, 6))\n",
        "colors = ['r', 'g', 'b', 'c', 'm', 'y']\n",
        "\n",
        "for i, category in enumerate(categories):\n",
        "    start = i * 5\n",
        "    end = start + 5\n",
        "    plt.scatter(embeddings_2d[start:end, 0], embeddings_2d[start:end, 1], c=colors[i], label=category)\n",
        "\n",
        "    for j, word in enumerate(my_words[start:end]):\n",
        "        plt.annotate(word, (embeddings_2d[start+j, 0], embeddings_2d[start+j, 1]), xytext=(5, 2),\n",
        "                     textcoords='offset points', ha='left', va='bottom',\n",
        "                     bbox=dict(boxstyle='round,pad=0.5', fc='white', alpha=0.0),\n",
        "                     fontsize=10,\n",
        "                     arrowprops=dict(arrowstyle = '->', connectionstyle='arc3,rad=0'))\n",
        "\n",
        "plt.xlabel('First Principal Component')\n",
        "plt.ylabel('Second Principal Component')\n",
        "plt.title('2D Visualization of Word Embeddings')\n",
        "plt.legend()\n",
        "plt.tight_layout()\n",
        "plt.show()"
      ]
    },
    {
      "cell_type": "markdown",
      "metadata": {
        "id": "29pUPjkGUMCw"
      },
      "source": [
        "### 3. Train word2vec embeddings with `gensim`"
      ]
    },
    {
      "cell_type": "code",
      "execution_count": null,
      "metadata": {
        "id": "_FETioGmViLQ"
      },
      "outputs": [],
      "source": [
        "dataset = api.load(\"text8\")\n",
        "\n",
        "# take the first 100 sentences as our training set\n",
        "sentences = list(dataset)[:100]\n",
        "\n",
        "categories = [\n",
        "    \"joyful\", \"sad\", \"science\", \"arts\"\n",
        "]\n",
        "\n",
        "my_words = [\n",
        "    \"happiness\", \"excitement\", \"love\", \"pleasure\",      # joyful\n",
        "    \"anger\", \"fear\", \"pain\", \"frustration\",             # sad\n",
        "    \"biology\", \"mathematics\", \"physics\", \"engineering\",        # science\n",
        "    \"painting\", \"poetry\", \"music\", \"dance\",             # arts\n",
        "]\n",
        "\n",
        "\"\"\"\n",
        "TODO: (a) Complete the train_word2vec function.\n",
        "(Hint: Use the Word2Vec Model class: https://radimrehurek.com/gensim/auto_examples/tutorials/run_word2vec.html)\n",
        "\"\"\"\n",
        "def train_word2vec(corpus, window_size, vector_size=100, min_count=5, sg=1, workers=20):\n",
        "    # Your code goes here\n",
        "    pass\n"
      ]
    },
    {
      "cell_type": "code",
      "execution_count": null,
      "metadata": {
        "id": "IZjMbwzCzkcR"
      },
      "outputs": [],
      "source": [
        "\"\"\"\n",
        "TODO: (b) Train word2vec in different window sizes. word2vec_models should store the three word embedding models.\n",
        "(Hint: You can pass in only the corpus and window_size to the train_word2vec function, and leave other arguments as their default values)\n",
        "(Note: The training can take a few minutes to finish!)\n",
        "\"\"\"\n",
        "word2vec_models = []\n",
        "for window_size in [2, 5, 10]:\n",
        "    # Your code goes here\n",
        "    print(f\"\\n--- Training Embeddings for Window Size: {window_size} ---\")\n",
        "    pass"
      ]
    },
    {
      "cell_type": "code",
      "execution_count": null,
      "metadata": {
        "id": "g02kavuYziBH"
      },
      "outputs": [],
      "source": [
        "def visualize_embeddings(model, words, categories):\n",
        "    embeddings_to_plot = []\n",
        "    valid_words = []\n",
        "    category_sizes = []\n",
        "\n",
        "    for i, category in enumerate(categories):\n",
        "        start = i * 4\n",
        "        end = start + 4\n",
        "        category_words = words[start:end]\n",
        "        category_embeddings = []\n",
        "        category_valid_words = []\n",
        "\n",
        "        for word in category_words:\n",
        "            try:\n",
        "                category_embeddings.append(model.wv[word])\n",
        "                category_valid_words.append(word)\n",
        "            except KeyError:\n",
        "                print(f\"Warning: '{word}' not found in the model vocabulary.\")\n",
        "\n",
        "        embeddings_to_plot.extend(category_embeddings)\n",
        "        valid_words.extend(category_valid_words)\n",
        "        category_sizes.append(len(category_valid_words))\n",
        "\n",
        "    # Convert to numpy array\n",
        "    embeddings_to_plot = np.array(embeddings_to_plot)\n",
        "\n",
        "    # Perform PCA to reduce to 2 dimensions\n",
        "    pca = PCA(n_components=2)\n",
        "    embeddings_2d = pca.fit_transform(embeddings_to_plot)\n",
        "\n",
        "    # Plot\n",
        "    plt.figure(figsize=(10, 6))\n",
        "    colors = ['r', 'g', 'b', 'c', 'm', 'y']\n",
        "\n",
        "    start = 0\n",
        "    for i, (category, size) in enumerate(zip(categories, category_sizes)):\n",
        "        end = start + size\n",
        "        plt.scatter(embeddings_2d[start:end, 0], embeddings_2d[start:end, 1], c=colors[i], label=f\"{category} ({size})\")\n",
        "\n",
        "        for j, word in enumerate(valid_words[start:end]):\n",
        "            plt.annotate(word, (embeddings_2d[start+j, 0], embeddings_2d[start+j, 1]), xytext=(5, 2),\n",
        "                         textcoords='offset points', ha='left', va='bottom',\n",
        "                         bbox=dict(boxstyle='round,pad=0.5', fc='white', alpha=0.0),\n",
        "                         fontsize=10,\n",
        "                         arrowprops=dict(arrowstyle = '->', connectionstyle='arc3,rad=0'))\n",
        "        start = end\n",
        "\n",
        "    plt.xlabel('First Principal Component')\n",
        "    plt.ylabel('Second Principal Component')\n",
        "    plt.title(f'2D Visualization of Word Embeddings (Window Size: {model.window})')\n",
        "    plt.legend()\n",
        "    plt.tight_layout()\n",
        "    plt.show()\n",
        "\n",
        "\n",
        "\"\"\"\n",
        "TODO: (c) visualize the embeddings.\n",
        "\"\"\"\n",
        "for model in word2vec_models:\n",
        "    # Your code goes here\n",
        "    pass"
      ]
    },
    {
      "cell_type": "markdown",
      "metadata": {
        "id": "Kowd1EbaVLaC"
      },
      "source": [
        "### 4. Classification Using Word Embeddings."
      ]
    },
    {
      "cell_type": "code",
      "execution_count": null,
      "metadata": {
        "id": "MpUwsti0VihU"
      },
      "outputs": [],
      "source": [
        "import numpy as np\n",
        "import torch\n",
        "\n",
        "# Check if GPU is available and set device\n",
        "device = torch.device('cuda' if torch.cuda.is_available() else 'cpu')\n",
        "print(f\"Using device: {device}\")\n",
        "\n",
        "# load pretrained word vectors\n",
        "word_vectors = gensim.downloader.load('glove-wiki-gigaword-300')\n",
        "\n",
        "# Calculate sentence embeddings as averaged word embeddings\n",
        "def sentence_vector(sentence, word_vectors):\n",
        "    \"\"\"Calculates the average word vector for a sentence.\"\"\"\n",
        "    words = sentence.lower().split()  # Fixed: split into words\n",
        "    vectors = [word_vectors[word] for word in words if word in word_vectors]\n",
        "\n",
        "    if not vectors:\n",
        "        return torch.zeros(word_vectors.vector_size, device=device)\n",
        "\n",
        "    # Convert to PyTorch tensor and move to GPU\n",
        "    vectors_tensor = torch.tensor(np.array(vectors), device=device, dtype=torch.float32)\n",
        "    return vectors_tensor.mean(dim=0)\n",
        "\n",
        "# Define some example categories and keywords\n",
        "categories = {\n",
        "    \"travel\": [\"travel\", \"vacation\", \"trip\"],\n",
        "    \"music\": [\"music\", \"song\", \"listen\"],\n",
        "    \"health\": [\"health\", \"exercise\", \"fit\"],\n",
        "}\n",
        "\n",
        "# Calculate category vectors\n",
        "category_vectors = {category: sentence_vector(' '.join(words), word_vectors) for category, words in categories.items()}\n",
        "\n",
        "def vec_cosine_similarity(vec1, vec2):\n",
        "    \"\"\"Calculate cosine similarity between two PyTorch tensors on GPU.\"\"\"\n",
        "    # Use PyTorch operations for GPU acceleration\n",
        "    norm1 = torch.norm(vec1)\n",
        "    norm2 = torch.norm(vec2)\n",
        "\n",
        "    if norm1 == 0 or norm2 == 0:\n",
        "        return torch.tensor(0.0, device=device)\n",
        "\n",
        "    return torch.dot(vec1, vec2) / (norm1 * norm2)\n",
        "\n",
        "\"\"\"\n",
        "TODO: (a) Implement the classify_sentence function with word embeddings.\n",
        "(Hint: You should compute the cosine similarity between the sentence vector and the category vectors,\n",
        "and predict the category with the highest cosine similarity to the sentence vector)\n",
        "\"\"\"\n",
        "def classify_sentence(sentence, word_vectors, category_vectors):\n",
        "    # Your code goes here\n",
        "    pass\n",
        "\n",
        "# Classify new sentences\n",
        "sentences = [\n",
        "    \"Last summer, I visited Paris and explored the local culture.\",\n",
        "    \"She can play the guitar beautifully and writes her own songs.\",\n",
        "    \"Running every morning helps me stay energetic.\",\n",
        "]\n",
        "\n",
        "for sentence in sentences:\n",
        "    predicted_category = classify_sentence(sentence, word_vectors, category_vectors)\n",
        "    print(f\"Sentence: '{sentence}'\")\n",
        "    print(f\"Predicted Category: {predicted_category}\\n\")"
      ]
    },
    {
      "cell_type": "code",
      "source": [],
      "metadata": {
        "id": "b4p63BSRVZJR"
      },
      "execution_count": null,
      "outputs": []
    }
  ],
  "metadata": {
    "colab": {
      "provenance": [],
      "include_colab_link": true
    },
    "kernelspec": {
      "display_name": "Python 3",
      "name": "python3"
    },
    "language_info": {
      "codemirror_mode": {
        "name": "ipython",
        "version": 3
      },
      "file_extension": ".py",
      "mimetype": "text/x-python",
      "name": "python",
      "nbconvert_exporter": "python",
      "pygments_lexer": "ipython3",
      "version": "3.11.9"
    }
  },
  "nbformat": 4,
  "nbformat_minor": 0
}